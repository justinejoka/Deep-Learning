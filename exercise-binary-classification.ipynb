{
 "cells": [
  {
   "cell_type": "markdown",
   "id": "522f35d8",
   "metadata": {
    "papermill": {
     "duration": 0.004999,
     "end_time": "2024-02-28T12:01:41.476111",
     "exception": false,
     "start_time": "2024-02-28T12:01:41.471112",
     "status": "completed"
    },
    "tags": []
   },
   "source": [
    "**This notebook is an exercise in the [Intro to Deep Learning](https://www.kaggle.com/learn/intro-to-deep-learning) course.  You can reference the tutorial at [this link](https://www.kaggle.com/ryanholbrook/binary-classification).**\n",
    "\n",
    "---\n"
   ]
  },
  {
   "cell_type": "markdown",
   "id": "39399890",
   "metadata": {
    "papermill": {
     "duration": 0.004037,
     "end_time": "2024-02-28T12:01:41.484681",
     "exception": false,
     "start_time": "2024-02-28T12:01:41.480644",
     "status": "completed"
    },
    "tags": []
   },
   "source": [
    "# Introduction #\n",
    "\n",
    "In this exercise, you'll build a model to predict hotel cancellations with a binary classifier."
   ]
  },
  {
   "cell_type": "code",
   "execution_count": 1,
   "id": "f0ea1a35",
   "metadata": {
    "execution": {
     "iopub.execute_input": "2024-02-28T12:01:41.494644Z",
     "iopub.status.busy": "2024-02-28T12:01:41.494285Z",
     "iopub.status.idle": "2024-02-28T12:01:42.290488Z",
     "shell.execute_reply": "2024-02-28T12:01:42.289682Z"
    },
    "lines_to_next_cell": 0,
    "papermill": {
     "duration": 0.803974,
     "end_time": "2024-02-28T12:01:42.292852",
     "exception": false,
     "start_time": "2024-02-28T12:01:41.488878",
     "status": "completed"
    },
    "tags": []
   },
   "outputs": [
    {
     "name": "stderr",
     "output_type": "stream",
     "text": [
      "/tmp/ipykernel_26/3338970720.py:3: MatplotlibDeprecationWarning: The seaborn styles shipped by Matplotlib are deprecated since 3.6, as they no longer correspond to the styles shipped by seaborn. However, they will remain available as 'seaborn-v0_8-<style>'. Alternatively, directly use the seaborn API instead.\n",
      "  plt.style.use('seaborn-whitegrid')\n"
     ]
    }
   ],
   "source": [
    "# Setup plotting\n",
    "import matplotlib.pyplot as plt\n",
    "plt.style.use('seaborn-whitegrid')\n",
    "# Set Matplotlib defaults\n",
    "plt.rc('figure', autolayout=True)\n",
    "plt.rc('axes', labelweight='bold', labelsize='large',\n",
    "       titleweight='bold', titlesize=18, titlepad=10)\n",
    "plt.rc('animation', html='html5')\n",
    "\n",
    "# Setup feedback system\n",
    "from learntools.core import binder\n",
    "binder.bind(globals())\n",
    "from learntools.deep_learning_intro.ex6 import *"
   ]
  },
  {
   "cell_type": "markdown",
   "id": "372f5db6",
   "metadata": {
    "papermill": {
     "duration": 0.004186,
     "end_time": "2024-02-28T12:01:42.301813",
     "exception": false,
     "start_time": "2024-02-28T12:01:42.297627",
     "status": "completed"
    },
    "tags": []
   },
   "source": [
    "First, load the *Hotel Cancellations* dataset."
   ]
  },
  {
   "cell_type": "code",
   "execution_count": 2,
   "id": "2b318b64",
   "metadata": {
    "execution": {
     "iopub.execute_input": "2024-02-28T12:01:42.311999Z",
     "iopub.status.busy": "2024-02-28T12:01:42.311400Z",
     "iopub.status.idle": "2024-02-28T12:01:44.995277Z",
     "shell.execute_reply": "2024-02-28T12:01:44.994218Z"
    },
    "lines_to_next_cell": 2,
    "papermill": {
     "duration": 2.691515,
     "end_time": "2024-02-28T12:01:44.997743",
     "exception": false,
     "start_time": "2024-02-28T12:01:42.306228",
     "status": "completed"
    },
    "tags": []
   },
   "outputs": [],
   "source": [
    "import pandas as pd\n",
    "\n",
    "from sklearn.model_selection import train_test_split\n",
    "from sklearn.preprocessing import StandardScaler, OneHotEncoder\n",
    "from sklearn.impute import SimpleImputer\n",
    "from sklearn.pipeline import make_pipeline\n",
    "from sklearn.compose import make_column_transformer\n",
    "\n",
    "hotel = pd.read_csv('../input/dl-course-data/hotel.csv')\n",
    "\n",
    "X = hotel.copy()\n",
    "y = X.pop('is_canceled')\n",
    "\n",
    "X['arrival_date_month'] = \\\n",
    "    X['arrival_date_month'].map(\n",
    "        {'January':1, 'February': 2, 'March':3,\n",
    "         'April':4, 'May':5, 'June':6, 'July':7,\n",
    "         'August':8, 'September':9, 'October':10,\n",
    "         'November':11, 'December':12}\n",
    "    )\n",
    "\n",
    "features_num = [\n",
    "    \"lead_time\", \"arrival_date_week_number\",\n",
    "    \"arrival_date_day_of_month\", \"stays_in_weekend_nights\",\n",
    "    \"stays_in_week_nights\", \"adults\", \"children\", \"babies\",\n",
    "    \"is_repeated_guest\", \"previous_cancellations\",\n",
    "    \"previous_bookings_not_canceled\", \"required_car_parking_spaces\",\n",
    "    \"total_of_special_requests\", \"adr\",\n",
    "]\n",
    "features_cat = [\n",
    "    \"hotel\", \"arrival_date_month\", \"meal\",\n",
    "    \"market_segment\", \"distribution_channel\",\n",
    "    \"reserved_room_type\", \"deposit_type\", \"customer_type\",\n",
    "]\n",
    "\n",
    "transformer_num = make_pipeline(\n",
    "    SimpleImputer(strategy=\"constant\"), # there are a few missing values\n",
    "    StandardScaler(),\n",
    ")\n",
    "transformer_cat = make_pipeline(\n",
    "    SimpleImputer(strategy=\"constant\", fill_value=\"NA\"),\n",
    "    OneHotEncoder(handle_unknown='ignore'),\n",
    ")\n",
    "\n",
    "preprocessor = make_column_transformer(\n",
    "    (transformer_num, features_num),\n",
    "    (transformer_cat, features_cat),\n",
    ")\n",
    "\n",
    "# stratify - make sure classes are evenlly represented across splits\n",
    "X_train, X_valid, y_train, y_valid = \\\n",
    "    train_test_split(X, y, stratify=y, train_size=0.75)\n",
    "\n",
    "X_train = preprocessor.fit_transform(X_train)\n",
    "X_valid = preprocessor.transform(X_valid)\n",
    "\n",
    "input_shape = [X_train.shape[1]]"
   ]
  },
  {
   "cell_type": "markdown",
   "id": "8b100d1f",
   "metadata": {
    "papermill": {
     "duration": 0.004601,
     "end_time": "2024-02-28T12:01:45.006981",
     "exception": false,
     "start_time": "2024-02-28T12:01:45.002380",
     "status": "completed"
    },
    "tags": []
   },
   "source": [
    "# 1) Define Model #\n",
    "\n",
    "The model we'll use this time will have both batch normalization and dropout layers. To ease reading we've broken the diagram into blocks, but you can define it layer by layer as usual.\n",
    "\n",
    "Define a model with an architecture given by this diagram:\n",
    "\n",
    "<figure style=\"padding: 1em;\">\n",
    "<img src=\"https://storage.googleapis.com/kaggle-media/learn/images/V04o59Z.png\" width=\"400\" alt=\"Diagram of network architecture: BatchNorm, Dense, BatchNorm, Dropout, Dense, BatchNorm, Dropout, Dense.\">\n",
    "<figcaption style=\"textalign: center; font-style: italic\"><center>Diagram of a binary classifier.</center></figcaption>\n",
    "</figure>\n"
   ]
  },
  {
   "cell_type": "code",
   "execution_count": 3,
   "id": "b5e1a46b",
   "metadata": {
    "execution": {
     "iopub.execute_input": "2024-02-28T12:01:45.017294Z",
     "iopub.status.busy": "2024-02-28T12:01:45.016533Z",
     "iopub.status.idle": "2024-02-28T12:01:57.963119Z",
     "shell.execute_reply": "2024-02-28T12:01:57.962190Z"
    },
    "lines_to_next_cell": 2,
    "papermill": {
     "duration": 12.954717,
     "end_time": "2024-02-28T12:01:57.966038",
     "exception": false,
     "start_time": "2024-02-28T12:01:45.011321",
     "status": "completed"
    },
    "tags": []
   },
   "outputs": [
    {
     "name": "stderr",
     "output_type": "stream",
     "text": [
      "2024-02-28 12:01:46.759500: E external/local_xla/xla/stream_executor/cuda/cuda_dnn.cc:9261] Unable to register cuDNN factory: Attempting to register factory for plugin cuDNN when one has already been registered\n",
      "2024-02-28 12:01:46.759620: E external/local_xla/xla/stream_executor/cuda/cuda_fft.cc:607] Unable to register cuFFT factory: Attempting to register factory for plugin cuFFT when one has already been registered\n",
      "2024-02-28 12:01:46.882678: E external/local_xla/xla/stream_executor/cuda/cuda_blas.cc:1515] Unable to register cuBLAS factory: Attempting to register factory for plugin cuBLAS when one has already been registered\n"
     ]
    },
    {
     "data": {
      "application/javascript": [
       "parent.postMessage({\"jupyterEvent\": \"custom.exercise_interaction\", \"data\": {\"outcomeType\": 1, \"valueTowardsCompletion\": 0.3333333333333333, \"interactionType\": 1, \"questionType\": 2, \"questionId\": \"1_Q1\", \"learnToolsVersion\": \"0.3.4\", \"failureMessage\": \"\", \"exceptionClass\": \"\", \"trace\": \"\"}}, \"*\")"
      ],
      "text/plain": [
       "<IPython.core.display.Javascript object>"
      ]
     },
     "metadata": {},
     "output_type": "display_data"
    },
    {
     "data": {
      "text/markdown": [
       "<span style=\"color:#33cc33\">Correct</span>"
      ],
      "text/plain": [
       "Correct"
      ]
     },
     "metadata": {},
     "output_type": "display_data"
    }
   ],
   "source": [
    "from tensorflow import keras\n",
    "from tensorflow.keras import layers\n",
    "\n",
    "# YOUR CODE HERE: define the model given in the diagram\n",
    "model = keras.Sequential([\n",
    "    layers.BatchNormalization(input_shape=input_shape),\n",
    "    layers.Dense(256, activation='relu'),\n",
    "    layers.BatchNormalization(),\n",
    "    layers.Dropout(0.5),\n",
    "    layers.Dense(256, activation='relu'),\n",
    "    layers.BatchNormalization(),\n",
    "    layers.Dropout(0.5),\n",
    "    layers.Dense(1, activation='sigmoid')\n",
    "])\n",
    "# Check your answer\n",
    "q_1.check()"
   ]
  },
  {
   "cell_type": "markdown",
   "id": "9f5bae55",
   "metadata": {
    "papermill": {
     "duration": 0.007141,
     "end_time": "2024-02-28T12:01:57.980972",
     "exception": false,
     "start_time": "2024-02-28T12:01:57.973831",
     "status": "completed"
    },
    "tags": []
   },
   "source": [
    "# 2) Add Optimizer, Loss, and Metric #\n",
    "\n",
    "Now compile the model with the Adam optimizer and binary versions of the cross-entropy loss and accuracy metric."
   ]
  },
  {
   "cell_type": "code",
   "execution_count": 4,
   "id": "dd461379",
   "metadata": {
    "execution": {
     "iopub.execute_input": "2024-02-28T12:01:57.994912Z",
     "iopub.status.busy": "2024-02-28T12:01:57.994599Z",
     "iopub.status.idle": "2024-02-28T12:01:58.016370Z",
     "shell.execute_reply": "2024-02-28T12:01:58.015480Z"
    },
    "lines_to_next_cell": 0,
    "papermill": {
     "duration": 0.030467,
     "end_time": "2024-02-28T12:01:58.018411",
     "exception": false,
     "start_time": "2024-02-28T12:01:57.987944",
     "status": "completed"
    },
    "tags": []
   },
   "outputs": [
    {
     "data": {
      "application/javascript": [
       "parent.postMessage({\"jupyterEvent\": \"custom.exercise_interaction\", \"data\": {\"outcomeType\": 1, \"valueTowardsCompletion\": 0.3333333333333333, \"interactionType\": 1, \"questionType\": 2, \"questionId\": \"2_Q2\", \"learnToolsVersion\": \"0.3.4\", \"failureMessage\": \"\", \"exceptionClass\": \"\", \"trace\": \"\"}}, \"*\")"
      ],
      "text/plain": [
       "<IPython.core.display.Javascript object>"
      ]
     },
     "metadata": {},
     "output_type": "display_data"
    },
    {
     "data": {
      "text/markdown": [
       "<span style=\"color:#33cc33\">Correct</span>"
      ],
      "text/plain": [
       "Correct"
      ]
     },
     "metadata": {},
     "output_type": "display_data"
    }
   ],
   "source": [
    "# YOUR CODE HERE\n",
    "model.compile(optimizer='adam',\n",
    "              loss='binary_crossentropy',\n",
    "              metrics=['binary_accuracy'])\n",
    "\n",
    "# Check your answer\n",
    "q_2.check()"
   ]
  },
  {
   "cell_type": "code",
   "execution_count": 5,
   "id": "0869f7e9",
   "metadata": {
    "execution": {
     "iopub.execute_input": "2024-02-28T12:01:58.029639Z",
     "iopub.status.busy": "2024-02-28T12:01:58.029365Z",
     "iopub.status.idle": "2024-02-28T12:01:58.032901Z",
     "shell.execute_reply": "2024-02-28T12:01:58.032199Z"
    },
    "lines_to_next_cell": 0,
    "papermill": {
     "duration": 0.011216,
     "end_time": "2024-02-28T12:01:58.034700",
     "exception": false,
     "start_time": "2024-02-28T12:01:58.023484",
     "status": "completed"
    },
    "tags": []
   },
   "outputs": [],
   "source": [
    "# Lines below will give you a hint or solution code\n",
    "#q_2.hint()\n",
    "#q_2.solution()"
   ]
  },
  {
   "cell_type": "markdown",
   "id": "dcf3609c",
   "metadata": {
    "papermill": {
     "duration": 0.004831,
     "end_time": "2024-02-28T12:01:58.044511",
     "exception": false,
     "start_time": "2024-02-28T12:01:58.039680",
     "status": "completed"
    },
    "tags": []
   },
   "source": [
    "Finally, run this cell to train the model and view the learning curves. It may run for around 60 to 70 epochs, which could take a minute or two."
   ]
  },
  {
   "cell_type": "code",
   "execution_count": 6,
   "id": "8df08d74",
   "metadata": {
    "execution": {
     "iopub.execute_input": "2024-02-28T12:01:58.055710Z",
     "iopub.status.busy": "2024-02-28T12:01:58.055449Z",
     "iopub.status.idle": "2024-02-28T12:02:41.353277Z",
     "shell.execute_reply": "2024-02-28T12:02:41.352354Z"
    },
    "papermill": {
     "duration": 43.305853,
     "end_time": "2024-02-28T12:02:41.355494",
     "exception": false,
     "start_time": "2024-02-28T12:01:58.049641",
     "status": "completed"
    },
    "tags": []
   },
   "outputs": [
    {
     "name": "stdout",
     "output_type": "stream",
     "text": [
      "Epoch 1/200\n"
     ]
    },
    {
     "name": "stderr",
     "output_type": "stream",
     "text": [
      "WARNING: All log messages before absl::InitializeLog() is called are written to STDERR\n",
      "I0000 00:00:1709121722.345818      66 device_compiler.h:186] Compiled cluster using XLA!  This line is logged at most once for the lifetime of the process.\n"
     ]
    },
    {
     "name": "stdout",
     "output_type": "stream",
     "text": [
      "175/175 [==============================] - 6s 7ms/step - loss: 0.5177 - binary_accuracy: 0.7560 - val_loss: 0.4446 - val_binary_accuracy: 0.7985\n",
      "Epoch 2/200\n",
      "175/175 [==============================] - 1s 5ms/step - loss: 0.4385 - binary_accuracy: 0.7945 - val_loss: 0.4154 - val_binary_accuracy: 0.8066\n",
      "Epoch 3/200\n",
      "175/175 [==============================] - 1s 6ms/step - loss: 0.4239 - binary_accuracy: 0.8013 - val_loss: 0.4060 - val_binary_accuracy: 0.8120\n",
      "Epoch 4/200\n",
      "175/175 [==============================] - 1s 5ms/step - loss: 0.4159 - binary_accuracy: 0.8050 - val_loss: 0.4015 - val_binary_accuracy: 0.8146\n",
      "Epoch 5/200\n",
      "175/175 [==============================] - 1s 5ms/step - loss: 0.4104 - binary_accuracy: 0.8089 - val_loss: 0.3986 - val_binary_accuracy: 0.8154\n",
      "Epoch 6/200\n",
      "175/175 [==============================] - 1s 5ms/step - loss: 0.4062 - binary_accuracy: 0.8114 - val_loss: 0.3944 - val_binary_accuracy: 0.8179\n",
      "Epoch 7/200\n",
      "175/175 [==============================] - 1s 5ms/step - loss: 0.4027 - binary_accuracy: 0.8109 - val_loss: 0.3943 - val_binary_accuracy: 0.8172\n",
      "Epoch 8/200\n",
      "175/175 [==============================] - 1s 5ms/step - loss: 0.3986 - binary_accuracy: 0.8130 - val_loss: 0.3886 - val_binary_accuracy: 0.8217\n",
      "Epoch 9/200\n",
      "175/175 [==============================] - 1s 6ms/step - loss: 0.3975 - binary_accuracy: 0.8152 - val_loss: 0.3876 - val_binary_accuracy: 0.8222\n",
      "Epoch 10/200\n",
      "175/175 [==============================] - 1s 6ms/step - loss: 0.3941 - binary_accuracy: 0.8161 - val_loss: 0.3861 - val_binary_accuracy: 0.8234\n",
      "Epoch 11/200\n",
      "175/175 [==============================] - 1s 5ms/step - loss: 0.3925 - binary_accuracy: 0.8181 - val_loss: 0.3830 - val_binary_accuracy: 0.8254\n",
      "Epoch 12/200\n",
      "175/175 [==============================] - 1s 5ms/step - loss: 0.3893 - binary_accuracy: 0.8176 - val_loss: 0.3790 - val_binary_accuracy: 0.8283\n",
      "Epoch 13/200\n",
      "175/175 [==============================] - 1s 5ms/step - loss: 0.3887 - binary_accuracy: 0.8204 - val_loss: 0.3764 - val_binary_accuracy: 0.8277\n",
      "Epoch 14/200\n",
      "175/175 [==============================] - 1s 5ms/step - loss: 0.3850 - binary_accuracy: 0.8213 - val_loss: 0.3746 - val_binary_accuracy: 0.8281\n",
      "Epoch 15/200\n",
      "175/175 [==============================] - 1s 5ms/step - loss: 0.3834 - binary_accuracy: 0.8229 - val_loss: 0.3740 - val_binary_accuracy: 0.8297\n",
      "Epoch 16/200\n",
      "175/175 [==============================] - 1s 5ms/step - loss: 0.3820 - binary_accuracy: 0.8231 - val_loss: 0.3764 - val_binary_accuracy: 0.8285\n",
      "Epoch 17/200\n",
      "175/175 [==============================] - 1s 5ms/step - loss: 0.3816 - binary_accuracy: 0.8227 - val_loss: 0.3720 - val_binary_accuracy: 0.8303\n",
      "Epoch 18/200\n",
      "175/175 [==============================] - 1s 5ms/step - loss: 0.3800 - binary_accuracy: 0.8232 - val_loss: 0.3704 - val_binary_accuracy: 0.8309\n",
      "Epoch 19/200\n",
      "175/175 [==============================] - 1s 5ms/step - loss: 0.3775 - binary_accuracy: 0.8246 - val_loss: 0.3706 - val_binary_accuracy: 0.8314\n",
      "Epoch 20/200\n",
      "175/175 [==============================] - 1s 5ms/step - loss: 0.3762 - binary_accuracy: 0.8250 - val_loss: 0.3683 - val_binary_accuracy: 0.8317\n",
      "Epoch 21/200\n",
      "175/175 [==============================] - 1s 5ms/step - loss: 0.3746 - binary_accuracy: 0.8266 - val_loss: 0.3695 - val_binary_accuracy: 0.8300\n",
      "Epoch 22/200\n",
      "175/175 [==============================] - 1s 5ms/step - loss: 0.3740 - binary_accuracy: 0.8269 - val_loss: 0.3683 - val_binary_accuracy: 0.8330\n",
      "Epoch 23/200\n",
      "175/175 [==============================] - 1s 5ms/step - loss: 0.3732 - binary_accuracy: 0.8269 - val_loss: 0.3665 - val_binary_accuracy: 0.8335\n",
      "Epoch 24/200\n",
      "175/175 [==============================] - 1s 5ms/step - loss: 0.3727 - binary_accuracy: 0.8277 - val_loss: 0.3635 - val_binary_accuracy: 0.8344\n",
      "Epoch 25/200\n",
      "175/175 [==============================] - 1s 5ms/step - loss: 0.3712 - binary_accuracy: 0.8285 - val_loss: 0.3692 - val_binary_accuracy: 0.8322\n",
      "Epoch 26/200\n",
      "175/175 [==============================] - 1s 5ms/step - loss: 0.3711 - binary_accuracy: 0.8295 - val_loss: 0.3654 - val_binary_accuracy: 0.8351\n",
      "Epoch 27/200\n",
      "175/175 [==============================] - 1s 6ms/step - loss: 0.3692 - binary_accuracy: 0.8280 - val_loss: 0.3649 - val_binary_accuracy: 0.8337\n",
      "Epoch 28/200\n",
      "175/175 [==============================] - 1s 5ms/step - loss: 0.3679 - binary_accuracy: 0.8298 - val_loss: 0.3627 - val_binary_accuracy: 0.8342\n",
      "Epoch 29/200\n",
      "175/175 [==============================] - 1s 5ms/step - loss: 0.3664 - binary_accuracy: 0.8300 - val_loss: 0.3630 - val_binary_accuracy: 0.8345\n"
     ]
    },
    {
     "data": {
      "text/plain": [
       "<Axes: title={'center': 'Accuracy'}>"
      ]
     },
     "execution_count": 6,
     "metadata": {},
     "output_type": "execute_result"
    },
    {
     "data": {
      "image/png": "[encoded data removed]",
      "text/plain": [
       "<Figure size 640x480 with 1 Axes>"
      ]
     },
     "metadata": {},
     "output_type": "display_data"
    },
    {
     "data": {
      "image/png": "[encoded data removed]",
      "text/plain": [
       "<Figure size 640x480 with 1 Axes>"
      ]
     },
     "metadata": {},
     "output_type": "display_data"
    }
   ],
   "source": [
    "early_stopping = keras.callbacks.EarlyStopping(\n",
    "    patience=5,\n",
    "    min_delta=0.001,\n",
    "    restore_best_weights=True,\n",
    ")\n",
    "history = model.fit(\n",
    "    X_train, y_train,\n",
    "    validation_data=(X_valid, y_valid),\n",
    "    batch_size=512,\n",
    "    epochs=200,\n",
    "    callbacks=[early_stopping],\n",
    ")\n",
    "\n",
    "history_df = pd.DataFrame(history.history)\n",
    "history_df.loc[:, ['loss', 'val_loss']].plot(title=\"Cross-entropy\")\n",
    "history_df.loc[:, ['binary_accuracy', 'val_binary_accuracy']].plot(title=\"Accuracy\")"
   ]
  },
  {
   "cell_type": "markdown",
   "id": "2fb75ef5",
   "metadata": {
    "papermill": {
     "duration": 0.045818,
     "end_time": "2024-02-28T12:02:41.447710",
     "exception": false,
     "start_time": "2024-02-28T12:02:41.401892",
     "status": "completed"
    },
    "tags": []
   },
   "source": [
    "# 3) Train and Evaluate #\n",
    "\n",
    "\n",
    "What do you think about the learning curves? Does it look like the model underfit or overfit? Was the cross-entropy loss a good stand-in for accuracy?"
   ]
  },
  {
   "cell_type": "code",
   "execution_count": 7,
   "id": "99c3b88f",
   "metadata": {
    "execution": {
     "iopub.execute_input": "2024-02-28T12:02:41.542297Z",
     "iopub.status.busy": "2024-02-28T12:02:41.541354Z",
     "iopub.status.idle": "2024-02-28T12:02:41.549233Z",
     "shell.execute_reply": "2024-02-28T12:02:41.548278Z"
    },
    "papermill": {
     "duration": 0.057541,
     "end_time": "2024-02-28T12:02:41.551096",
     "exception": false,
     "start_time": "2024-02-28T12:02:41.493555",
     "status": "completed"
    },
    "tags": []
   },
   "outputs": [
    {
     "data": {
      "application/javascript": [
       "parent.postMessage({\"jupyterEvent\": \"custom.exercise_interaction\", \"data\": {\"outcomeType\": 1, \"valueTowardsCompletion\": 0.3333333333333333, \"interactionType\": 1, \"questionType\": 4, \"questionId\": \"3_Q3\", \"learnToolsVersion\": \"0.3.4\", \"failureMessage\": \"\", \"exceptionClass\": \"\", \"trace\": \"\"}}, \"*\")"
      ],
      "text/plain": [
       "<IPython.core.display.Javascript object>"
      ]
     },
     "metadata": {},
     "output_type": "display_data"
    },
    {
     "data": {
      "text/markdown": [
       "<span style=\"color:#33cc33\">Correct:</span> \n",
       "\n",
       "Though we can see the training loss continuing to fall, the early stopping callback prevented any overfitting. Moreover, the accuracy rose at the same rate as the cross-entropy fell, so it appears that minimizing cross-entropy was a good stand-in. All in all, it looks like this training was a success!"
      ],
      "text/plain": [
       "Correct: \n",
       "\n",
       "Though we can see the training loss continuing to fall, the early stopping callback prevented any overfitting. Moreover, the accuracy rose at the same rate as the cross-entropy fell, so it appears that minimizing cross-entropy was a good stand-in. All in all, it looks like this training was a success!"
      ]
     },
     "metadata": {},
     "output_type": "display_data"
    }
   ],
   "source": [
    "# View the solution (Run this cell to receive credit!)\n",
    "q_3.check()"
   ]
  },
  {
   "cell_type": "markdown",
   "id": "eb304781",
   "metadata": {
    "papermill": {
     "duration": 0.046131,
     "end_time": "2024-02-28T12:02:41.643935",
     "exception": false,
     "start_time": "2024-02-28T12:02:41.597804",
     "status": "completed"
    },
    "tags": []
   },
   "source": [
    "# Conclusion #\n",
    "\n",
    "Congratulations! You've completed Kaggle's *Introduction to Deep Learning* course!\n",
    "\n",
    "With your new skills you're ready to take on more advanced applications like computer vision and sentiment classification. What would you like to do next?\n",
    "\n",
    "Why not try one of our *Getting Started* competitions?\n",
    "\n",
    "- Classify images with TPUs in [**Petals to the Metal**](https://www.kaggle.com/c/tpu-getting-started)\n",
    "- Create art with GANs in [**I'm Something of a Painter Myself**](https://www.kaggle.com/c/gan-getting-started)\n",
    "- Classify Tweets in [**Real or Not? NLP with Disaster Tweets**](https://www.kaggle.com/c/nlp-getting-started)\n",
    "- Detect contradiction and entailment in [**Contradictory, My Dear Watson**](https://www.kaggle.com/c/contradictory-my-dear-watson)\n",
    "\n",
    "Until next time, Kagglers!"
   ]
  },
  {
   "cell_type": "markdown",
   "id": "c2208d2d",
   "metadata": {
    "papermill": {
     "duration": 0.046828,
     "end_time": "2024-02-28T12:02:41.738232",
     "exception": false,
     "start_time": "2024-02-28T12:02:41.691404",
     "status": "completed"
    },
    "tags": []
   },
   "source": [
    "---\n",
    "\n",
    "\n",
    "\n",
    "\n",
    "*Have questions or comments? Visit the [course discussion forum](https://www.kaggle.com/learn/intro-to-deep-learning/discussion) to chat with other learners.*"
   ]
  }
 ],
 "metadata": {
  "jupytext": {
   "cell_metadata_filter": "-all",
   "formats": "ipynb"
  },
  "kaggle": {
   "accelerator": "gpu",
   "dataSources": [
    {
     "datasetId": 829369,
     "sourceId": 1480608,
     "sourceType": "datasetVersion"
    }
   ],
   "dockerImageVersionId": 30648,
   "isGpuEnabled": true,
   "isInternetEnabled": false,
   "language": "python",
   "sourceType": "notebook"
  },
  "kernelspec": {
   "display_name": "Python 3",
   "language": "python",
   "name": "python3"
  },
  "language_info": {
   "codemirror_mode": {
    "name": "ipython",
    "version": 3
   },
   "file_extension": ".py",
   "mimetype": "text/x-python",
   "name": "python",
   "nbconvert_exporter": "python",
   "pygments_lexer": "ipython3",
   "version": "3.10.13"
  },
  "papermill": {
   "default_parameters": {},
   "duration": 65.058969,
   "end_time": "2024-02-28T12:02:43.808487",
   "environment_variables": {},
   "exception": null,
   "input_path": "__notebook__.ipynb",
   "output_path": "__notebook__.ipynb",
   "parameters": {},
   "start_time": "2024-02-28T12:01:38.749518",
   "version": "2.5.0"
  }
 },
 "nbformat": 4,
 "nbformat_minor": 5
}
